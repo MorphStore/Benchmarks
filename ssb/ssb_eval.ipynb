{
 "cells": [
  {
   "cell_type": "markdown",
   "metadata": {},
   "source": [
    "# Star Schema Benchmark (SSB) in MorphStore -- Evaluation\n",
    "**What is this?**\n",
    "- This notebook can be used to load and visualize the performance measurements obtained with `ssb.sh`.\n",
    "\n",
    "**Todos**\n",
    "- Do not hardcode the scale factor here.\n",
    "- Make the bar diagrams' y-limits account for the texts above the bars.\n",
    "- I think, all these bar charts can be done much easier with seaborn."
   ]
  },
  {
   "cell_type": "code",
   "execution_count": null,
   "metadata": {},
   "outputs": [],
   "source": [
    "import re\n",
    "import matplotlib.pyplot as plt\n",
    "from matplotlib.gridspec import GridSpec\n",
    "import os\n",
    "import pandas as pd\n",
    "import seaborn as sns\n",
    "sns.set_context(\"talk\")\n",
    "# sns.set_style(\"whitegrid\")\n",
    "%matplotlib inline"
   ]
  },
  {
   "cell_type": "markdown",
   "metadata": {},
   "source": [
    "# The Measurements Data to Use"
   ]
  },
  {
   "cell_type": "code",
   "execution_count": null,
   "metadata": {},
   "outputs": [],
   "source": [
    "BASEDIR = \"\"\n",
    "RUN_NAMES = [\n",
    "    # enter result sets here\n",
    "]"
   ]
  },
  {
   "cell_type": "markdown",
   "metadata": {},
   "source": [
    "# Data Utilities"
   ]
  },
  {
   "cell_type": "code",
   "execution_count": null,
   "metadata": {},
   "outputs": [],
   "source": [
    "# Column names for the data frames.\n",
    "COL_RUNNAME      = \"runName\"\n",
    "COL_SF           = \"sf\"\n",
    "COL_MAJOR        = \"major\"\n",
    "COL_MINOR        = \"minor\"\n",
    "COL_OPNAME       = \"opName\"\n",
    "COL_OPIDX        = \"opIdx\"\n",
    "COL_OPRUNTIME_MS = \"opRuntime [ms]\""
   ]
  },
  {
   "cell_type": "code",
   "execution_count": null,
   "metadata": {},
   "outputs": [],
   "source": [
    "# Function for loading the measurements data from a file.\n",
    "# TODO Use pd.read_csv() as soon as we separate the outputs of the monitoring and the query results.\n",
    "pMonitoringLine = re.compile(r\"(?P<name>.+?)\\t(?P<idx>\\d+)\\t(?P<runtime>\\d+)\")\n",
    "def load(filePath):\n",
    "    opNames = []\n",
    "    opIdxs = []\n",
    "    opRuntimes = []\n",
    "    foundStart = False\n",
    "    with open(filePath, \"r\") as f:\n",
    "        for line in f:\n",
    "            line = line[:-1]\n",
    "            if not foundStart:\n",
    "                if line == \"[MEA]\":\n",
    "                    f.readline() # Skip CSV headline.\n",
    "                    foundStart = True\n",
    "            else:\n",
    "                if line == \"[RES]\":\n",
    "                    break\n",
    "                m = pMonitoringLine.fullmatch(line)\n",
    "                if m is None:\n",
    "                    raise RuntimeError(\"could not parse line '{}'\".format(line))\n",
    "                opNames   .append(    m.group(\"name\"))\n",
    "                opIdxs    .append(int(m.group(\"idx\")))\n",
    "                opRuntimes.append(int(m.group(\"runtime\")))\n",
    "    res = pd.DataFrame({COL_OPIDX: opIdxs, COL_OPNAME: opNames, COL_OPRUNTIME_MS: opRuntimes})\n",
    "    res[COL_OPRUNTIME_MS] /= 1000\n",
    "    return res"
   ]
  },
  {
   "cell_type": "code",
   "execution_count": null,
   "metadata": {
    "scrolled": false
   },
   "outputs": [],
   "source": [
    "# Loading all measurements data into one large data frame.\n",
    "dfAll = pd.DataFrame()\n",
    "for runName in RUN_NAMES:\n",
    "    for sf in [1]:\n",
    "        for major in range(1, 4+1):\n",
    "            for minor in range(1, 3+1):\n",
    "                dfQuery = load(os.path.join(BASEDIR, \"time_sf{}_{}\".format(sf, runName), \"q{}.{}.csv\".format(major, minor)))\n",
    "                dfQuery[COL_RUNNAME] = runName\n",
    "                dfQuery[COL_SF] = sf\n",
    "                dfQuery[COL_MAJOR] = major\n",
    "                dfQuery[COL_MINOR] = minor\n",
    "                dfAll = dfAll.append(dfQuery)"
   ]
  },
  {
   "cell_type": "markdown",
   "metadata": {},
   "source": [
    "# Diagram Utilities"
   ]
  },
  {
   "cell_type": "code",
   "execution_count": null,
   "metadata": {},
   "outputs": [],
   "source": [
    "pal = sns.hls_palette(8, l=0.5, s=0.5)\n",
    "colorByOpName = {\n",
    "    \"query\": (0.6, 0.6, 0.6),\n",
    "    \n",
    "    \"select\"                         : pal[0],\n",
    "    \"project\"                        : pal[1],\n",
    "    \"intersect_sorted\"               : pal[2],\n",
    "    \"merge_sorted\"                   : pal[2],\n",
    "    # TODO Harmonize the names of the join operators.\n",
    "    \"nested_loop_join\"               : pal[4],\n",
    "    \"left_semi_nto1_nested_loop_join\": pal[4],\n",
    "    \"semi_join\"                      : pal[4],\n",
    "    \"equi_join\"                      : pal[4],\n",
    "    \"group\"                          : pal[5],\n",
    "    \"agg_sum\"                        : pal[6],\n",
    "    \"calc_unary\"                     : pal[7],\n",
    "    \"calc_binary\"                    : pal[7],\n",
    "}\n",
    "# Intended to be used for parameter barVisPropsFunc of function bar.\n",
    "def getColorByOpName(row):\n",
    "    return {\"color\": colorByOpName[row[COL_OPNAME]]}"
   ]
  },
  {
   "cell_type": "code",
   "execution_count": null,
   "metadata": {},
   "outputs": [],
   "source": [
    "# Intended to be used for parameter labelFunc of function bar.\n",
    "def getQueryName(row):\n",
    "    return \"Q{}.{}\".format(row[COL_MAJOR], row[COL_MINOR])"
   ]
  },
  {
   "cell_type": "code",
   "execution_count": null,
   "metadata": {},
   "outputs": [],
   "source": [
    "# Generates a bar diagram.\n",
    "def bar(df, idx, count, labelFunc, barVisPropsFunc={}, ax=None, figsize=None):\n",
    "    # df must have a column named COL_OPRUNTIME_MS.\n",
    "    # The index of df must be a sequence number.\n",
    "    \n",
    "    df = df.copy()\n",
    "    \n",
    "    if ax is None:\n",
    "        fig = plt.figure(figsize=figsize)\n",
    "        ax = fig.add_subplot(111)\n",
    "    else:\n",
    "        fig = ax.get_figure()\n",
    "    \n",
    "#     maxRuntime = df[COL_OPRUNTIME_MS].max()\n",
    "#     if maxRuntime < 1000:\n",
    "#         unit = \"ms\"\n",
    "#     else:\n",
    "#         df[COL_OPRUNTIME_MS] /= 1000\n",
    "#         unit = \"s\"\n",
    "    unit = \"ms\"\n",
    "    totalRuntime = df[COL_OPRUNTIME_MS].sum()\n",
    "    \n",
    "    w = 0.8 / count\n",
    "    \n",
    "    for rowIdx, row in df.iterrows():\n",
    "        opRuntime = row[COL_OPRUNTIME_MS]\n",
    "        if isinstance(barVisPropsFunc, dict):\n",
    "            barVisProps = barVisPropsFunc\n",
    "        elif callable(barVisPropsFunc):\n",
    "            barVisProps = barVisPropsFunc(row)\n",
    "        else:\n",
    "            raise RuntimeError(\"parameter barVisPropsFunc must be a dict or a callable\")\n",
    "        x = rowIdx + idx * w + w / 2 - w * count / 2\n",
    "        ax.bar(\n",
    "            x, opRuntime, w,\n",
    "            edgecolor=\"black\", linewidth=1,\n",
    "            **barVisProps\n",
    "        )\n",
    "        relOpRuntime = opRuntime / totalRuntime\n",
    "        ax.text(\n",
    "#             x, opRuntime, \"  {:.1f} {} ({:.1%})\".format(opRuntime, unit, relOpRuntime) if relOpRuntime >= 0.01 else \"  ≈0\",\n",
    "            x, opRuntime, \"  {:.1f} {}\".format(opRuntime, unit) if relOpRuntime >= 0.01 else \"  ≈0\",\n",
    "            ha=\"center\", va=\"bottom\", color=\"black\", rotation=\"vertical\"\n",
    "        )\n",
    "        \n",
    "#     ax.set_ylim(top=ax.get_ylim()[1] * 1.1)\n",
    "    ax.set_xticks(df.index)\n",
    "    if isinstance(labelFunc, str):\n",
    "        xTickLabels = df[labelFunc]\n",
    "    elif callable(labelFunc):\n",
    "        xTickLabels = df.apply(labelFunc, axis=1)\n",
    "    else:\n",
    "        raise RuntimeError(\"parameter labelFunc must be either a str or a callable\")\n",
    "    ax.set_xticklabels(xTickLabels, rotation=\"vertical\")\n",
    "    ax.set_ylabel(\"runtime [{}]\".format(unit))\n",
    "    \n",
    "    return fig, ax"
   ]
  },
  {
   "cell_type": "code",
   "execution_count": null,
   "metadata": {},
   "outputs": [],
   "source": [
    "def saveDia(filename):\n",
    "    plt.savefig(\"dias/{}.pdf\".format(filename), bbox_inches=\"tight\")"
   ]
  },
  {
   "cell_type": "markdown",
   "metadata": {},
   "source": [
    "# Evalution"
   ]
  },
  {
   "cell_type": "markdown",
   "metadata": {},
   "source": [
    "## Total runtimes of all SSB queries\n",
    "- Shows which query takes how long to execute\n",
    "- The reported runtimes\n",
    "  - include\n",
    "    - everything from immediately before the first operator until immediately after the last operator\n",
    "  - do not include\n",
    "    - loading base data from disk\n",
    "    - printing the query results"
   ]
  },
  {
   "cell_type": "code",
   "execution_count": null,
   "metadata": {
    "scrolled": false
   },
   "outputs": [],
   "source": [
    "ax = None\n",
    "for runIdx, runName in enumerate(RUN_NAMES):\n",
    "    for sf in [1]:\n",
    "        df = dfAll[(dfAll[COL_RUNNAME] == runName) & (dfAll[COL_SF] == sf) & (dfAll[COL_OPIDX] == 0)]\n",
    "        df.index = range(len(df))\n",
    "        fig, ax = bar(df, runIdx, len(RUN_NAMES), getQueryName, {\"color\": (.6, .6, .6)}, figsize=(12, 5), ax=ax)\n",
    "        ax.set_title(\"SSB (sf {}): Total query runtimes\".format(sf))\n",
    "saveDia(\"total_query_runtimes\")"
   ]
  },
  {
   "cell_type": "markdown",
   "metadata": {},
   "source": [
    "## Total runtimes per operator\n",
    "- Shows how much time is spent on which operator\n",
    "- Runtimes are sums over all queries and operator occurences"
   ]
  },
  {
   "cell_type": "code",
   "execution_count": null,
   "metadata": {},
   "outputs": [],
   "source": [
    "ax = None\n",
    "for runIdx, runName in enumerate(RUN_NAMES):\n",
    "    for sf in [1]:\n",
    "        df = dfAll[(dfAll[COL_RUNNAME] == runName) & (dfAll[COL_SF] == sf) & (dfAll[COL_OPIDX] > 0)][[COL_OPNAME, COL_OPRUNTIME_MS]].groupby(COL_OPNAME, as_index=False).sum()\n",
    "        fig, ax = bar(df, runIdx, len(RUN_NAMES), COL_OPNAME, getColorByOpName, figsize=(12, 5), ax=ax)\n",
    "        ax.set_title(\"SSB (sf {}): Total runtime per operator, aggregated over all queries\".format(sf))\n",
    "saveDia(\"total_operator_runtimes\")"
   ]
  },
  {
   "cell_type": "markdown",
   "metadata": {},
   "source": [
    "## Percentage of end-to-end query time spent outside operators\n",
    "- Shows in how far the measured total query runtime differs from the sum of the individual operator runtimes\n",
    "- *These values should be very low*\n",
    "  - High values would indicate that there is something inefficient outside the operators (e.g. something related to the monitoring)"
   ]
  },
  {
   "cell_type": "code",
   "execution_count": null,
   "metadata": {},
   "outputs": [],
   "source": [
    "if False:\n",
    "    for runName in RUN_NAMES:\n",
    "        print(\"Run '{}'\".format(runName))\n",
    "        for sf in [1]:\n",
    "            print(\"\\tSSB (sf {})\".format(sf))\n",
    "            for major in range(1, 4+1):\n",
    "                for minor in range(1, 3+1):\n",
    "                    df = dfAll[(dfAll[COL_RUNNAME] == runName) & (dfAll[COL_SF] == 1) & (dfAll[COL_MAJOR] == major) & (dfAll[COL_MINOR] == minor)]\n",
    "                    totalOp = df[df[COL_OPIDX] > 0][COL_OPRUNTIME_MS].sum()\n",
    "                    totalQu = df[df[COL_OPIDX] == 0][COL_OPRUNTIME_MS].values[0]\n",
    "                    remainder = totalQu - totalOp\n",
    "                    print(\"\\t\\tQ{}.{}: {:.2%}\".format(major, minor, (totalQu - totalOp) / totalQu))"
   ]
  },
  {
   "cell_type": "markdown",
   "metadata": {},
   "source": [
    "## Detailled information on every single SSB query\n",
    "- One row per query, three diagrams per row\n",
    "  - total query runtime\n",
    "  - total runtime per operator\n",
    "    - sum over all occurences of the operator in the query\n",
    "  - individual operator runtimes\n",
    "    - from left to right in the order of occurence in the query\n",
    "- Shows\n",
    "  - where the time goes\n",
    "  - which query operators offer the highest potential for performance improvements"
   ]
  },
  {
   "cell_type": "code",
   "execution_count": null,
   "metadata": {
    "scrolled": false
   },
   "outputs": [],
   "source": [
    "colWs = [1, 3, 10]\n",
    "for sf in [1]:\n",
    "    for majorIdx, major in enumerate([1, 2, 3, 4]):\n",
    "        for minorIdx, minor in enumerate([1, 2, 3]):\n",
    "            fig = plt.figure(figsize=(40, 6), constrained_layout=True)\n",
    "            gs = GridSpec(1, sum(colWs), figure=fig)\n",
    "\n",
    "            axTotalRuntime = fig.add_subplot(gs[0, sum(colWs[:0]):sum(colWs[:1])])\n",
    "            axRuntimePerOp = fig.add_subplot(gs[0, sum(colWs[:1]):sum(colWs[:2])])\n",
    "            axIndividualOp = fig.add_subplot(gs[0, sum(colWs[:2]):sum(colWs[:3])])\n",
    "\n",
    "            fig.text(\n",
    "                0.5, 1.05, \"SSB (sf {}) Q{}.{}\".format(sf, major, minor),\n",
    "                fontsize=24, fontweight=\"bold\", ha=\"center\", va=\"bottom\"\n",
    "            )\n",
    "            \n",
    "            for runIdx, runName in enumerate(RUN_NAMES):\n",
    "                \n",
    "                df = dfAll[(dfAll[COL_RUNNAME] == runName) & (dfAll[COL_SF] == sf) & (dfAll[COL_MAJOR] == major) & (dfAll[COL_MINOR] == minor) & (dfAll[COL_OPIDX] == 0)]\n",
    "                fig, axTotalRuntime = bar(df, runIdx, len(RUN_NAMES), COL_OPNAME, getColorByOpName, axTotalRuntime)\n",
    "                axTotalRuntime.set_title(\"Total runtime\")\n",
    "\n",
    "                df = dfAll[(dfAll[COL_RUNNAME] == runName) & (dfAll[COL_SF] == sf) & (dfAll[COL_MAJOR] == major) & (dfAll[COL_MINOR] == minor) & (dfAll[COL_OPIDX] > 0)][[COL_OPNAME, COL_OPRUNTIME_MS]].groupby(COL_OPNAME, as_index=False).sum()\n",
    "                fig, axRuntimePerOp = bar(df, runIdx, len(RUN_NAMES), COL_OPNAME, getColorByOpName, axRuntimePerOp)\n",
    "                axRuntimePerOp.set_title(\"Aggregated runtime per operator\")\n",
    "\n",
    "                df = dfAll[(dfAll[COL_RUNNAME] == runName) & (dfAll[COL_SF] == sf) & (dfAll[COL_MAJOR] == major) & (dfAll[COL_MINOR] == minor) & (dfAll[COL_OPIDX] > 0)]\n",
    "                df.index = df[COL_OPIDX]\n",
    "                fig, axIndividualOp = bar(df, runIdx, len(RUN_NAMES), COL_OPNAME, getColorByOpName, axIndividualOp)\n",
    "                axIndividualOp.set_title(\"Individual operator runtimes\")\n",
    "\n",
    "            saveDia(\"q{}.{}\".format(major, minor))\n",
    "            display(fig)\n",
    "            plt.close()"
   ]
  },
  {
   "cell_type": "code",
   "execution_count": null,
   "metadata": {},
   "outputs": [],
   "source": [
    "\n",
    "\n",
    "\n",
    "\n",
    "\n",
    "\n",
    "\n",
    "\n",
    "\n",
    "\n",
    "\n",
    "\n",
    "\n",
    "\n",
    "\n",
    "\n",
    "\n",
    "\n",
    "\n",
    "\n",
    "\n",
    "\n",
    "\n",
    "\n",
    "\n",
    "\n",
    "\n",
    "\n",
    "\n",
    "\n",
    "\n",
    "\n",
    "\n",
    "\n",
    "\n",
    "\n",
    "\n",
    "\n",
    "\n",
    "\n",
    "\n",
    "\n",
    "\n",
    "\n",
    "\n",
    "\n",
    "\n"
   ]
  }
 ],
 "metadata": {
  "kernelspec": {
   "display_name": "Python 3",
   "language": "python",
   "name": "python3"
  },
  "language_info": {
   "codemirror_mode": {
    "name": "ipython",
    "version": 3
   },
   "file_extension": ".py",
   "mimetype": "text/x-python",
   "name": "python",
   "nbconvert_exporter": "python",
   "pygments_lexer": "ipython3",
   "version": "3.5.2"
  }
 },
 "nbformat": 4,
 "nbformat_minor": 2
}
